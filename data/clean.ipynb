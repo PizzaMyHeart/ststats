{
 "cells": [
  {
   "cell_type": "code",
   "execution_count": 207,
   "metadata": {},
   "outputs": [],
   "source": [
    "import pandas as pd\n",
    "import numpy as np\n",
    "import glob"
   ]
  },
  {
   "cell_type": "code",
   "execution_count": 217,
   "metadata": {},
   "outputs": [],
   "source": [
    "files = glob.glob('*.csv')\n",
    "df = pd.concat([pd.read_csv(file) for file in files])\n",
    "df = df.drop('Unnamed: 0', axis=1)"
   ]
  },
  {
   "cell_type": "code",
   "execution_count": 218,
   "metadata": {},
   "outputs": [
    {
     "data": {
      "text/plain": [
       "0     1\n",
       "1     1\n",
       "2     1\n",
       "3     1\n",
       "4     1\n",
       "     ..\n",
       "20    1\n",
       "21    3\n",
       "22    3\n",
       "23    4\n",
       "24    1\n",
       "Name: level, Length: 100, dtype: object"
      ]
     },
     "execution_count": 218,
     "metadata": {},
     "output_type": "execute_result"
    }
   ],
   "source": [
    "df['level'] = df['level'].str.strip()\n",
    "# The last character is a digit (which we want), but\n",
    "# splitting returns a list with an empty first and last element.\n",
    "# So we take the second to last element.\n",
    "df['level'] = df['level'].str.split('').str[-2]\n",
    "df['level'].head(100)"
   ]
  },
  {
   "cell_type": "code",
   "execution_count": 230,
   "metadata": {},
   "outputs": [
    {
     "data": {
      "text/html": [
       "<div>\n",
       "<style scoped>\n",
       "    .dataframe tbody tr th:only-of-type {\n",
       "        vertical-align: middle;\n",
       "    }\n",
       "\n",
       "    .dataframe tbody tr th {\n",
       "        vertical-align: top;\n",
       "    }\n",
       "\n",
       "    .dataframe thead th {\n",
       "        text-align: right;\n",
       "    }\n",
       "</style>\n",
       "<table border=\"1\" class=\"dataframe\">\n",
       "  <thead>\n",
       "    <tr style=\"text-align: right;\">\n",
       "      <th></th>\n",
       "      <th>specialty</th>\n",
       "      <th>level</th>\n",
       "      <th>applications</th>\n",
       "      <th>posts</th>\n",
       "      <th>ratio</th>\n",
       "      <th>year</th>\n",
       "    </tr>\n",
       "  </thead>\n",
       "  <tbody>\n",
       "    <tr>\n",
       "      <th>24</th>\n",
       "      <td>Combined Infection Training</td>\n",
       "      <td>3</td>\n",
       "      <td>100</td>\n",
       "      <td>56</td>\n",
       "      <td>1.79</td>\n",
       "      <td>2016</td>\n",
       "    </tr>\n",
       "    <tr>\n",
       "      <th>24</th>\n",
       "      <td>Combined Infection Training</td>\n",
       "      <td>3</td>\n",
       "      <td>109</td>\n",
       "      <td>53</td>\n",
       "      <td>2.06</td>\n",
       "      <td>2017</td>\n",
       "    </tr>\n",
       "    <tr>\n",
       "      <th>73</th>\n",
       "      <td>Combined Infection Training</td>\n",
       "      <td>3</td>\n",
       "      <td>125</td>\n",
       "      <td>69</td>\n",
       "      <td>1.81</td>\n",
       "      <td>2018</td>\n",
       "    </tr>\n",
       "    <tr>\n",
       "      <th>71</th>\n",
       "      <td>Combined Infection Training</td>\n",
       "      <td>3</td>\n",
       "      <td>144</td>\n",
       "      <td>65</td>\n",
       "      <td>2.22</td>\n",
       "      <td>2019</td>\n",
       "    </tr>\n",
       "    <tr>\n",
       "      <th>31</th>\n",
       "      <td>Combined Infection Training</td>\n",
       "      <td>3</td>\n",
       "      <td>206</td>\n",
       "      <td>54</td>\n",
       "      <td>3.81</td>\n",
       "      <td>2020</td>\n",
       "    </tr>\n",
       "  </tbody>\n",
       "</table>\n",
       "</div>"
      ],
      "text/plain": [
       "                      specialty level  applications  posts  ratio  year\n",
       "24  Combined Infection Training     3           100     56   1.79  2016\n",
       "24  Combined Infection Training     3           109     53   2.06  2017\n",
       "73  Combined Infection Training     3           125     69   1.81  2018\n",
       "71  Combined Infection Training     3           144     65   2.22  2019\n",
       "31  Combined Infection Training     3           206     54   3.81  2020"
      ]
     },
     "execution_count": 230,
     "metadata": {},
     "output_type": "execute_result"
    }
   ],
   "source": [
    "df['specialty'] = df['specialty'].str.strip().str.strip('\\ufeff')\n",
    "df['specialty'] = df['specialty'].apply(lambda x: 'Public Health Medicine' if 'Public Health' in x else x)\n",
    "df['specialty'] = df['specialty'].apply(lambda x: 'Anaesthetics' if 'Anaesthetics' in x else x)\n",
    "df['specialty'] = df['specialty'].apply(lambda x: 'Emergency Medicine' if 'Emergency Medicine' in x else x)\n",
    "df['specialty'] = df['specialty'].apply(lambda x: 'Internal Medicine Training' if 'Core Medical' in x else x)\n",
    "df['specialty'] = df['specialty'].apply(lambda x: 'Internal Medicine Training' if 'Internal Medicine Training' in x else x)\n",
    "df['specialty'] = df['specialty'].str.replace('Acute Care Common Stem', 'ACCS')\n",
    "df['specialty'] = df['specialty'].str.replace('Paediatrics & Child Health', 'Paediatrics')\n",
    "df['specialty'] = df['specialty'].str.replace('-', '')\n",
    "df['specialty'] = df['specialty'].str.replace('Psychiatric', 'Psychiatry')\n",
    "df['specialty'] = df['specialty'].str.replace(r'\\s{2,}', ' ', regex=True)\n",
    "df['specialty'] = df['specialty'].str.replace('perinatal', 'Perinatal')\n",
    "df['specialty'] = df['specialty'].str.replace(' pathology', ' Pathology')\n",
    "df['specialty'] = df['specialty'].str.replace(' and', ' &')\n",
    "df['specialty'] = df['specialty'].str.replace('neuro', 'Neuro')\n",
    "df['specialty'] = df['specialty'].str.replace('audio vestibular', 'Audiovestibular', case=False)\n",
    "df['specialty'] = df['specialty'].str.replace('maxillo facial', 'Maxillofacial', case=False)\n",
    "df['level'] = df['level'].str.strip()\n",
    "df[df['specialty'].str.contains('infection', case=False)].sort_values(by='year')"
   ]
  },
  {
   "cell_type": "code",
   "execution_count": 226,
   "metadata": {},
   "outputs": [
    {
     "data": {
      "text/plain": [
       "array(['Acute Internal Medicine', 'Allergy', 'Anaesthetics',\n",
       "       'Audiovestibular Medicine', 'Broad Based Training', 'Cardiology',\n",
       "       'Cardiothoracic Surgery', 'Cardiothoracic surgery',\n",
       "       'Child & Adolescent Psychiatry', 'Clinical Genetics',\n",
       "       'Clinical Neurophysiology', 'Clinical Oncology',\n",
       "       'Clinical Pharmacology & Therapeutics', 'Clinical Radiology',\n",
       "       'Combined Infection Training',\n",
       "       'Community Sexual & Reproductive Health',\n",
       "       'Core Psychiatry Training', 'Core Surgical Training',\n",
       "       'Dermatology', 'Diagnostic Neuropathology', 'Emergency Medicine',\n",
       "       'Endocrinology & Diabetes Mellitus',\n",
       "       'Forensic & Child & Adolescent Psychiatry', 'Forensic Psychiatry',\n",
       "       'Forensic Psychiatry & Child & Adolescent Psychiatry',\n",
       "       'Forensic Psychiatry & Medical Psychotherapy', 'Gastroenterology',\n",
       "       'General & Medical Psychotherapy', 'General & Old Age Psychiatry',\n",
       "       'General & Vascular Surgery', 'General Practice',\n",
       "       'General Psychiatry', 'General Psychiatry & Forensic Psychiatry',\n",
       "       'General Psychiatry & Medical Psychotherapy',\n",
       "       'General Psychiatry & Old Age Psychiatry', 'General Surgery',\n",
       "       'Genitourinary Medicine', 'Geriatric Medicine', 'Haematology',\n",
       "       'Histopathology', 'Immunology', 'Intensive Care Medicine',\n",
       "       'Internal Medicine Training', 'Medical Microbiology',\n",
       "       'Medical Microbiology & Virology', 'Medical Oncology',\n",
       "       'Medical Ophthalmology', 'Medical Psychotherapy',\n",
       "       'Metabolic Medicine', 'Neurology', 'Neurosurgery',\n",
       "       'Nuclear Medicine', 'Obstetrics & Gynaecology',\n",
       "       'Occupational Medicine', 'Old Age Psychiatry', 'Ophthalmology',\n",
       "       'Oral & Maxillofacial Surgery', 'Otolaryngology',\n",
       "       'Paediatric & Perinatal Pathology', 'Paediatric Cardiology',\n",
       "       'Paediatric Surgery', 'Paediatrics', 'Palliative Medicine',\n",
       "       'Plastic Surgery', 'Psychiatry of Learning Disability',\n",
       "       'Psychiatry of Learning Disability & Child & Adolescent Psychiatry',\n",
       "       'Public Health Medicine', 'Rehabilitation Medicine',\n",
       "       'Renal Medicine', 'Respiratory Medicine', 'Rheumatology',\n",
       "       'Sport & Exercise Medicine', 'Trauma & Orthopaedic Surgery',\n",
       "       'Trauma & Orthopaedic Surgery (Scotland Only)', 'Urology'],\n",
       "      dtype=object)"
      ]
     },
     "execution_count": 226,
     "metadata": {},
     "output_type": "execute_result"
    }
   ],
   "source": [
    "df['specialty'].sort_values().unique()"
   ]
  },
  {
   "cell_type": "code",
   "execution_count": 231,
   "metadata": {},
   "outputs": [],
   "source": [
    "pd.DataFrame.to_csv(df, 'data.csv')"
   ]
  }
 ],
 "metadata": {
  "kernelspec": {
   "display_name": "Python 3",
   "language": "python",
   "name": "python3"
  },
  "language_info": {
   "codemirror_mode": {
    "name": "ipython",
    "version": 3
   },
   "file_extension": ".py",
   "mimetype": "text/x-python",
   "name": "python",
   "nbconvert_exporter": "python",
   "pygments_lexer": "ipython3",
   "version": "3.8.5"
  }
 },
 "nbformat": 4,
 "nbformat_minor": 4
}
